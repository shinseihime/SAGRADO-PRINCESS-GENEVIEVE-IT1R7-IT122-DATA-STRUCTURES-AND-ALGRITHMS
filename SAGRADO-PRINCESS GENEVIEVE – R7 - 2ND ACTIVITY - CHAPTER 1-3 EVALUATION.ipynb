{
 "cells": [
  {
   "cell_type": "code",
   "execution_count": null,
   "id": "selected-seating",
   "metadata": {},
   "outputs": [],
   "source": [
    "print (\"\\ni. Discuss your learnings on Chapter 1  time-frame 8:00 - 30:35. Minimum of 200 characters\\n\\n\")\n",
    "print (\"The Basic Concepts of Data Structures are discussed in Chapter 2 of Data Structures and Algorithms. Data\\ndefinition, I've learned, is a term that describes a set of data that has several characteristics: atomic,\\ntraceable, accurate, and clear and concise. I also learned about Data Objects, which are objects that\\ncontain data. I have also encountered about the different data types, derived data types, and basic\\noperations.\\n\\n\\n\")\n",
    "\n",
    "print (\"ii. Discuss your learnings on Chapter 1  time-frame 35:00 - end. Minimum of 200 characters\\n\\n\")\n",
    "print (\"In this lesson I have learned how to write an algorithm by following the example problem with steps-by-\\nstep process. I have also learned that the efficiency of an algorithm can be analyzed in two different stages\\nprior and after the implementation. I also recall that an algorithm's complexity is a measure of how much\\ntime and/or space it takes to process a given amount of data (n), including space complexity and time\\ncomplexity.\\n\\n\\n\")\n",
    "\n",
    "print (\"iii. Discuss your learnings on Chapter 2  time-frame 5:00 - 9:00. Minimum of 200 characters\\n\\n\")\n",
    "print (\"Data Structure and Algorithm may be a complex topic but it has its relevant reasons as to why we are \\nlearning it today since applications are getting harder and data-rich. Problems such as Data Search, \\nProcessor speed, and Multiple Requests can be solved through learning Data Structures and algorithm. \\nI’ve learned about algorithms and that it is the sequential computation steps that makes of the input and\\noutput of the program. I have learned about the characteristics of a data structure where it enables the \\nuser to evidently access the data conveniently and accessibly. The user must also remember the \\ncorrectness, time complexity and space complexity in achieving the data structure.\\n\\n\\n\")\n",
    "\n",
    "print (\"iv. Discuss your learnings on Chapter 3  time-frame 3:00 - 18:00. Minimum of 200 characters\\n\\n\")\n",
    "print (\"In the last chapter I have learned about what is an array. An array is a data structure consisting of a\\ncollection of elements, each identified by at least one array index or key. I've learned the concept of arrays\\nand who to properly use them. I have come to understand their representation and learn its index\\nnumbers, position, and its basic operations.\\n\\n\\n\")\n",
    "print (\"iv. Discuss your learnings on Chapter 3  time-frame 3:00 - 18:00. Minimum of 200 characters\\n\\n\")\n",
    "from array import*\n",
    "\n",
    "array_1 = array (\"i\", [1,2,3,4,5])\n",
    "print (\"Calling all arrays\")\n",
    "for x in array_1:\n",
    "    print (x)\n",
    "\n",
    "print (\"\\nIndexing list:\\n1 = 0, 2 = 1, 3 = 2, 4 = 3, 5 = 4\")\n",
    "\n",
    "print (\"\\n#Accessing an Array\")\n",
    "print (array_1 [int (input(\"\\nAccess an Array: \"))])\n",
    "\n",
    "print (\"\\n#Inserting\")\n",
    "array_1.insert(int (input(\"Input Index: \")),int (input (\"Input inserting number: \")))\n",
    "array_1.append (int(input(\"enter new append number: \")))\n",
    "for x in array_1:\n",
    "    print (x)\n",
    "\n",
    "print (\"\\n#Deletion\")\n",
    "array_1.remove (int(input(\"Input number to remove: \")))\n",
    "for x in array_1:\n",
    "    print (x)\n",
    "\n",
    "print (\"\\n#Search: \")\n",
    "print (array_1.index (int(input(\"\\nSearch number: \"))))\n",
    "\n",
    "print (\"\\n#Updating Arrays\")\n",
    "a = int (input(\"\\nIndex Number: \"))\n",
    "b = int (input (\"\\nNew Number: \"))\n",
    "array_1[a] = b\n",
    "for x in array_1:\n",
    "         print (x)\n",
    "\n",
    "print (\"\\n\\n\\nEnd Program\")\n",
    "\n"
   ]
  }
 ],
 "metadata": {
  "kernelspec": {
   "display_name": "Python 3",
   "language": "python",
   "name": "python3"
  },
  "language_info": {
   "codemirror_mode": {
    "name": "ipython",
    "version": 3
   },
   "file_extension": ".py",
   "mimetype": "text/x-python",
   "name": "python",
   "nbconvert_exporter": "python",
   "pygments_lexer": "ipython3",
   "version": "3.9.1"
  }
 },
 "nbformat": 4,
 "nbformat_minor": 5
}
